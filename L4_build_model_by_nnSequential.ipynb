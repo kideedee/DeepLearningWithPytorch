{
 "cells": [
  {
   "cell_type": "code",
   "execution_count": 1,
   "id": "initial_id",
   "metadata": {
    "collapsed": true,
    "ExecuteTime": {
     "end_time": "2024-04-09T18:47:27.662999Z",
     "start_time": "2024-04-09T18:47:27.027878Z"
    }
   },
   "outputs": [],
   "source": [
    "import torch\n",
    "import torch.nn as nn"
   ]
  },
  {
   "cell_type": "code",
   "outputs": [],
   "source": [
    "net = nn.Sequential()"
   ],
   "metadata": {
    "collapsed": false,
    "ExecuteTime": {
     "end_time": "2024-04-09T18:47:46.876515Z",
     "start_time": "2024-04-09T18:47:46.874572Z"
    }
   },
   "id": "4fa9b28de3b3cf44",
   "execution_count": 2
  },
  {
   "cell_type": "code",
   "outputs": [],
   "source": [
    "class Flatten(nn.Module):\n",
    "    def forward(self, x):\n",
    "        size = x.size()[1:]\n",
    "        num_features = 1\n",
    "        for s in size:\n",
    "            num_features *= s\n",
    "        return x.view(-1, num_features)"
   ],
   "metadata": {
    "collapsed": false,
    "ExecuteTime": {
     "end_time": "2024-04-09T18:54:52.040205Z",
     "start_time": "2024-04-09T18:54:52.032036Z"
    }
   },
   "id": "6d10e112fe0e6503",
   "execution_count": 9
  },
  {
   "cell_type": "code",
   "outputs": [
    {
     "name": "stdout",
     "output_type": "stream",
     "text": [
      "Sequential(\n",
      "  (Conv1): Conv2d(1, 6, kernel_size=(3, 3), stride=(1, 1))\n",
      "  (ReLU): ReLU()\n",
      "  (Maxpolling1): MaxPool2d(kernel_size=2, stride=2, padding=0, dilation=1, ceil_mode=False)\n",
      "  (Conv2): Conv2d(6, 16, kernel_size=(3, 3), stride=(1, 1))\n",
      "  (ReLU2): ReLU()\n",
      "  (MaxPooling2): MaxPool2d(kernel_size=2, stride=2, padding=0, dilation=1, ceil_mode=False)\n",
      "  (Flatten): Flatten()\n",
      "  (Fc1): Linear(in_features=576, out_features=120, bias=True)\n",
      "  (Fc2): Linear(in_features=120, out_features=84, bias=True)\n",
      "  (Fc3): Linear(in_features=84, out_features=10, bias=True)\n",
      ")\n"
     ]
    }
   ],
   "source": [
    "net.add_module(\"Conv1\", nn.Conv2d(1, 6, 3))\n",
    "net.add_module(\"ReLU\", nn.ReLU())\n",
    "net.add_module(\"Maxpolling1\", nn.MaxPool2d(2))\n",
    "\n",
    "net.add_module(\"Conv2\", nn.Conv2d(6, 16, 3))\n",
    "net.add_module(\"ReLU2\", nn.ReLU())\n",
    "net.add_module(\"MaxPooling2\", nn.MaxPool2d(2))\n",
    "net.add_module(\"Flatten\", Flatten())\n",
    "\n",
    "net.add_module(\"Fc1\", nn.Linear(16 * 6 * 6, 120))\n",
    "net.add_module(\"Fc2\", nn.Linear(120, 84))\n",
    "net.add_module(\"Fc3\", nn.Linear(84, 10))\n",
    "\n",
    "print(net)"
   ],
   "metadata": {
    "collapsed": false,
    "ExecuteTime": {
     "end_time": "2024-04-09T18:54:52.220079Z",
     "start_time": "2024-04-09T18:54:52.210097Z"
    }
   },
   "id": "96c6f272c4c5e9d1",
   "execution_count": 10
  },
  {
   "cell_type": "code",
   "outputs": [
    {
     "name": "stdout",
     "output_type": "stream",
     "text": [
      "torch.Size([1, 10])\n"
     ]
    }
   ],
   "source": [
    "input = torch.rand(1, 1, 32, 32)\n",
    "output = net(input)\n",
    "print(output.shape)"
   ],
   "metadata": {
    "collapsed": false,
    "ExecuteTime": {
     "end_time": "2024-04-09T18:54:52.664485Z",
     "start_time": "2024-04-09T18:54:52.660244Z"
    }
   },
   "id": "304bb86a5299f662",
   "execution_count": 11
  },
  {
   "cell_type": "code",
   "outputs": [],
   "source": [],
   "metadata": {
    "collapsed": false
   },
   "id": "28fc2e69f2854f84"
  }
 ],
 "metadata": {
  "kernelspec": {
   "display_name": "Python 3",
   "language": "python",
   "name": "python3"
  },
  "language_info": {
   "codemirror_mode": {
    "name": "ipython",
    "version": 2
   },
   "file_extension": ".py",
   "mimetype": "text/x-python",
   "name": "python",
   "nbconvert_exporter": "python",
   "pygments_lexer": "ipython2",
   "version": "2.7.6"
  }
 },
 "nbformat": 4,
 "nbformat_minor": 5
}
