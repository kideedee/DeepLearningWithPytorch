{
 "cells": [
  {
   "cell_type": "code",
   "execution_count": 1,
   "id": "initial_id",
   "metadata": {
    "collapsed": true,
    "ExecuteTime": {
     "end_time": "2024-04-09T18:02:29.992154Z",
     "start_time": "2024-04-09T18:02:29.348303Z"
    }
   },
   "outputs": [],
   "source": [
    "import torch"
   ]
  },
  {
   "cell_type": "code",
   "outputs": [
    {
     "data": {
      "text/plain": "True"
     },
     "execution_count": 2,
     "metadata": {},
     "output_type": "execute_result"
    }
   ],
   "source": [
    "torch.cuda.is_available()"
   ],
   "metadata": {
    "collapsed": false,
    "ExecuteTime": {
     "end_time": "2024-04-09T18:02:30.004399Z",
     "start_time": "2024-04-09T18:02:29.992904Z"
    }
   },
   "id": "1a15266ed845b212",
   "execution_count": 2
  },
  {
   "cell_type": "code",
   "outputs": [
    {
     "data": {
      "text/plain": "tensor([[ 1.3476e+37,  3.5219e-41,  2.2561e-43],\n        [ 0.0000e+00,  9.5272e-38,  4.1892e-41],\n        [ 9.5272e-38,  4.1892e-41, -6.3008e+19],\n        [ 3.5219e-41, -6.3017e+19,  3.5219e-41],\n        [-6.3023e+19,  3.5219e-41, -6.3027e+19]])"
     },
     "execution_count": 3,
     "metadata": {},
     "output_type": "execute_result"
    }
   ],
   "source": [
    "x = torch.empty(5, 3)\n",
    "x"
   ],
   "metadata": {
    "collapsed": false,
    "ExecuteTime": {
     "end_time": "2024-04-09T18:02:30.012888Z",
     "start_time": "2024-04-09T18:02:30.004912Z"
    }
   },
   "id": "8d51e0ff056ba8b6",
   "execution_count": 3
  },
  {
   "cell_type": "code",
   "outputs": [
    {
     "data": {
      "text/plain": "tensor([[0.9683, 0.4082, 0.7795],\n        [0.1931, 0.1348, 0.0181],\n        [0.0595, 0.2159, 0.2452],\n        [0.3789, 0.0834, 0.0296],\n        [0.9357, 0.2758, 0.1092]])"
     },
     "execution_count": 4,
     "metadata": {},
     "output_type": "execute_result"
    }
   ],
   "source": [
    "torch.rand(5, 3)"
   ],
   "metadata": {
    "collapsed": false,
    "ExecuteTime": {
     "end_time": "2024-04-09T18:02:30.018214Z",
     "start_time": "2024-04-09T18:02:30.013620Z"
    }
   },
   "id": "318276eee890a2c8",
   "execution_count": 4
  },
  {
   "cell_type": "code",
   "outputs": [
    {
     "data": {
      "text/plain": "tensor([[0, 0, 0],\n        [0, 0, 0],\n        [0, 0, 0],\n        [0, 0, 0],\n        [0, 0, 0]])"
     },
     "execution_count": 5,
     "metadata": {},
     "output_type": "execute_result"
    }
   ],
   "source": [
    "torch.zeros(5, 3, dtype=torch.long)"
   ],
   "metadata": {
    "collapsed": false,
    "ExecuteTime": {
     "end_time": "2024-04-09T18:02:30.023953Z",
     "start_time": "2024-04-09T18:02:30.018724Z"
    }
   },
   "id": "fd06069b4f18720d",
   "execution_count": 5
  },
  {
   "cell_type": "code",
   "outputs": [
    {
     "data": {
      "text/plain": "tensor([[2.1715e-18, 1.3089e+22, 6.6009e-07],\n        [1.3457e+22, 4.2958e-05, 4.1337e-05],\n        [1.0299e-11, 3.3462e+21, 5.3540e+22],\n        [3.2916e-09, 2.1707e-18, 4.5447e+30],\n        [7.0062e+22, 2.1715e-18, 4.5447e+30]])"
     },
     "execution_count": 6,
     "metadata": {},
     "output_type": "execute_result"
    }
   ],
   "source": [
    "torch.Tensor(5, 3)"
   ],
   "metadata": {
    "collapsed": false,
    "ExecuteTime": {
     "end_time": "2024-04-09T18:02:30.030128Z",
     "start_time": "2024-04-09T18:02:30.024400Z"
    }
   },
   "id": "1d5c1b6e3edec9b",
   "execution_count": 6
  },
  {
   "cell_type": "code",
   "outputs": [
    {
     "data": {
      "text/plain": "tensor([5.5000, 3.3000])"
     },
     "execution_count": 7,
     "metadata": {},
     "output_type": "execute_result"
    }
   ],
   "source": [
    "torch.Tensor([5.5, 3.3])"
   ],
   "metadata": {
    "collapsed": false,
    "ExecuteTime": {
     "end_time": "2024-04-09T18:02:30.036075Z",
     "start_time": "2024-04-09T18:02:30.030565Z"
    }
   },
   "id": "8e25871533b22218",
   "execution_count": 7
  },
  {
   "cell_type": "code",
   "outputs": [
    {
     "data": {
      "text/plain": "tensor([[1., 1., 1.],\n        [1., 1., 1.],\n        [1., 1., 1.],\n        [1., 1., 1.],\n        [1., 1., 1.]])"
     },
     "execution_count": 8,
     "metadata": {},
     "output_type": "execute_result"
    }
   ],
   "source": [
    "x = torch.ones(5, 3)\n",
    "x"
   ],
   "metadata": {
    "collapsed": false,
    "ExecuteTime": {
     "end_time": "2024-04-09T18:02:30.042540Z",
     "start_time": "2024-04-09T18:02:30.036644Z"
    }
   },
   "id": "b94dcbe21d33bc02",
   "execution_count": 8
  },
  {
   "cell_type": "code",
   "outputs": [
    {
     "data": {
      "text/plain": "tensor([[-1.2142,  0.1266,  1.7019],\n        [-1.1042,  0.2563,  0.7465],\n        [ 0.4298,  0.3328, -0.5397],\n        [-2.2847,  1.6239, -1.0423],\n        [-1.0019, -2.4007, -0.4449]], dtype=torch.float64)"
     },
     "execution_count": 9,
     "metadata": {},
     "output_type": "execute_result"
    }
   ],
   "source": [
    "y = torch.randn_like(x, dtype=torch.double)\n",
    "y"
   ],
   "metadata": {
    "collapsed": false,
    "ExecuteTime": {
     "end_time": "2024-04-09T18:02:30.048737Z",
     "start_time": "2024-04-09T18:02:30.043208Z"
    }
   },
   "id": "dcfa11c32d928697",
   "execution_count": 9
  },
  {
   "cell_type": "code",
   "outputs": [
    {
     "name": "stdout",
     "output_type": "stream",
     "text": [
      "torch.Size([5, 3])\n",
      "torch.Size([5, 3])\n"
     ]
    }
   ],
   "source": [
    "print(y.shape)\n",
    "print(y.size())"
   ],
   "metadata": {
    "collapsed": false,
    "ExecuteTime": {
     "end_time": "2024-04-09T18:02:30.053854Z",
     "start_time": "2024-04-09T18:02:30.050012Z"
    }
   },
   "id": "6b2c928d692e3868",
   "execution_count": 10
  },
  {
   "cell_type": "code",
   "outputs": [
    {
     "name": "stdout",
     "output_type": "stream",
     "text": [
      "tensor([[0.9519, 0.6418, 0.6871],\n",
      "        [1.0635, 1.2846, 1.0571],\n",
      "        [0.2616, 1.2110, 0.6385],\n",
      "        [1.3651, 1.2012, 1.1792],\n",
      "        [1.5541, 1.7459, 0.8515]])\n",
      "tensor([[0.9519, 0.6418, 0.6871],\n",
      "        [1.0635, 1.2846, 1.0571],\n",
      "        [0.2616, 1.2110, 0.6385],\n",
      "        [1.3651, 1.2012, 1.1792],\n",
      "        [1.5541, 1.7459, 0.8515]])\n"
     ]
    }
   ],
   "source": [
    "x = torch.rand(5, 3)\n",
    "y = torch.rand(5, 3)\n",
    "print(x + y)\n",
    "print(torch.add(x, y))"
   ],
   "metadata": {
    "collapsed": false,
    "ExecuteTime": {
     "end_time": "2024-04-09T18:02:30.090375Z",
     "start_time": "2024-04-09T18:02:30.054332Z"
    }
   },
   "id": "fdb306222ac98ba5",
   "execution_count": 11
  },
  {
   "cell_type": "code",
   "outputs": [
    {
     "name": "stdout",
     "output_type": "stream",
     "text": [
      "tensor([[0.7011, 0.6154, 0.1791],\n",
      "        [0.0678, 0.7475, 0.6463],\n",
      "        [0.2306, 0.7913, 0.4562],\n",
      "        [0.5973, 0.8600, 0.7304],\n",
      "        [0.6659, 0.8472, 0.7911]])\n",
      "tensor([[0.9519, 0.6418, 0.6871],\n",
      "        [1.0635, 1.2846, 1.0571],\n",
      "        [0.2616, 1.2110, 0.6385],\n",
      "        [1.3651, 1.2012, 1.1792],\n",
      "        [1.5541, 1.7459, 0.8515]])\n",
      "tensor([[0.9519, 0.6418, 0.6871],\n",
      "        [1.0635, 1.2846, 1.0571],\n",
      "        [0.2616, 1.2110, 0.6385],\n",
      "        [1.3651, 1.2012, 1.1792],\n",
      "        [1.5541, 1.7459, 0.8515]])\n"
     ]
    }
   ],
   "source": [
    "print(y)\n",
    "print(y.add_(x))\n",
    "print(y)"
   ],
   "metadata": {
    "collapsed": false,
    "ExecuteTime": {
     "end_time": "2024-04-09T18:02:30.096305Z",
     "start_time": "2024-04-09T18:02:30.091032Z"
    }
   },
   "id": "625991b33fb99a45",
   "execution_count": 12
  },
  {
   "cell_type": "code",
   "outputs": [
    {
     "name": "stdout",
     "output_type": "stream",
     "text": [
      "tensor([[1.1157, 1.0092, 0.1299, 1.3040],\n",
      "        [0.9633, 0.6102, 0.9435, 1.9456],\n",
      "        [0.9522, 1.3837, 1.4477, 0.5600],\n",
      "        [1.1552, 0.9478, 0.6326, 0.8735]])\n"
     ]
    }
   ],
   "source": [
    "a = torch.rand(4, 4)\n",
    "b = torch.rand(4, 4)\n",
    "c = torch.empty(4, 4)\n",
    "torch.add(a, b, out=c)\n",
    "print(c)"
   ],
   "metadata": {
    "collapsed": false,
    "ExecuteTime": {
     "end_time": "2024-04-09T18:02:30.101815Z",
     "start_time": "2024-04-09T18:02:30.096858Z"
    }
   },
   "id": "f8eeae6aeac994d3",
   "execution_count": 13
  },
  {
   "cell_type": "code",
   "outputs": [
    {
     "data": {
      "text/plain": "tensor([[0.9295, 0.7416, 0.0086, 0.7627],\n        [0.8877, 0.1733, 0.5540, 0.9848],\n        [0.6019, 0.9162, 0.7833, 0.4489],\n        [0.9895, 0.6923, 0.3471, 0.6801]])"
     },
     "execution_count": 14,
     "metadata": {},
     "output_type": "execute_result"
    }
   ],
   "source": [
    "a"
   ],
   "metadata": {
    "collapsed": false,
    "ExecuteTime": {
     "end_time": "2024-04-09T18:02:30.111497Z",
     "start_time": "2024-04-09T18:02:30.102432Z"
    }
   },
   "id": "eeb45af7f344a027",
   "execution_count": 14
  },
  {
   "cell_type": "code",
   "outputs": [
    {
     "data": {
      "text/plain": "tensor([0.7416, 0.1733, 0.9162, 0.6923])"
     },
     "execution_count": 15,
     "metadata": {},
     "output_type": "execute_result"
    }
   ],
   "source": [
    "a[:, 1]"
   ],
   "metadata": {
    "collapsed": false,
    "ExecuteTime": {
     "end_time": "2024-04-09T18:02:30.117917Z",
     "start_time": "2024-04-09T18:02:30.112102Z"
    }
   },
   "id": "7e479fad4c970a4a",
   "execution_count": 15
  },
  {
   "cell_type": "code",
   "outputs": [
    {
     "data": {
      "text/plain": "torch.Size([4, 4])"
     },
     "execution_count": 16,
     "metadata": {},
     "output_type": "execute_result"
    }
   ],
   "source": [
    "x = torch.rand(4, 4)\n",
    "x.shape"
   ],
   "metadata": {
    "collapsed": false,
    "ExecuteTime": {
     "end_time": "2024-04-09T18:02:30.123527Z",
     "start_time": "2024-04-09T18:02:30.118580Z"
    }
   },
   "id": "62054a8be71c6d4c",
   "execution_count": 16
  },
  {
   "cell_type": "code",
   "outputs": [
    {
     "data": {
      "text/plain": "tensor([0.6206, 0.0246, 0.8591, 0.7210, 0.2680, 0.1565, 0.9107, 0.7034, 0.8695,\n        0.6714, 0.9303, 0.0607, 0.9489, 0.6437, 0.4980, 0.5605])"
     },
     "execution_count": 17,
     "metadata": {},
     "output_type": "execute_result"
    }
   ],
   "source": [
    "x.view(16)"
   ],
   "metadata": {
    "collapsed": false,
    "ExecuteTime": {
     "end_time": "2024-04-09T18:02:30.131079Z",
     "start_time": "2024-04-09T18:02:30.124366Z"
    }
   },
   "id": "227125cd08a18aed",
   "execution_count": 17
  },
  {
   "cell_type": "code",
   "outputs": [
    {
     "data": {
      "text/plain": "tensor([[0.6206, 0.0246, 0.8591, 0.7210, 0.2680, 0.1565, 0.9107, 0.7034],\n        [0.8695, 0.6714, 0.9303, 0.0607, 0.9489, 0.6437, 0.4980, 0.5605]])"
     },
     "execution_count": 18,
     "metadata": {},
     "output_type": "execute_result"
    }
   ],
   "source": [
    "y = x.view(-1, 8)\n",
    "y"
   ],
   "metadata": {
    "collapsed": false,
    "ExecuteTime": {
     "end_time": "2024-04-09T18:02:30.137175Z",
     "start_time": "2024-04-09T18:02:30.131873Z"
    }
   },
   "id": "f5c7171c55b9135b",
   "execution_count": 18
  },
  {
   "cell_type": "code",
   "outputs": [
    {
     "data": {
      "text/plain": "tensor([0.7464])"
     },
     "execution_count": 19,
     "metadata": {},
     "output_type": "execute_result"
    }
   ],
   "source": [
    "x = torch.rand(1)\n",
    "x"
   ],
   "metadata": {
    "collapsed": false,
    "ExecuteTime": {
     "end_time": "2024-04-09T18:02:30.143114Z",
     "start_time": "2024-04-09T18:02:30.137926Z"
    }
   },
   "id": "bf00640fe1f076ec",
   "execution_count": 19
  },
  {
   "cell_type": "code",
   "outputs": [
    {
     "data": {
      "text/plain": "0.746386706829071"
     },
     "execution_count": 20,
     "metadata": {},
     "output_type": "execute_result"
    }
   ],
   "source": [
    "x.item()"
   ],
   "metadata": {
    "collapsed": false,
    "ExecuteTime": {
     "end_time": "2024-04-09T18:02:30.148970Z",
     "start_time": "2024-04-09T18:02:30.143890Z"
    }
   },
   "id": "7fe977bc4a8fc35a",
   "execution_count": 20
  },
  {
   "cell_type": "code",
   "outputs": [
    {
     "data": {
      "text/plain": "tensor([[0.6948, 0.6136, 0.0867],\n        [0.8672, 0.0050, 0.5455],\n        [0.2834, 0.2585, 0.2266]])"
     },
     "execution_count": 21,
     "metadata": {},
     "output_type": "execute_result"
    }
   ],
   "source": [
    "x = torch.rand(3, 3)\n",
    "x"
   ],
   "metadata": {
    "collapsed": false,
    "ExecuteTime": {
     "end_time": "2024-04-09T18:02:30.155523Z",
     "start_time": "2024-04-09T18:02:30.149510Z"
    }
   },
   "id": "84e7a61a02a45972",
   "execution_count": 21
  },
  {
   "cell_type": "code",
   "outputs": [
    {
     "data": {
      "text/plain": "0.6948241591453552"
     },
     "execution_count": 22,
     "metadata": {},
     "output_type": "execute_result"
    }
   ],
   "source": [
    "y = x[0, 0]\n",
    "y.item()"
   ],
   "metadata": {
    "collapsed": false,
    "ExecuteTime": {
     "end_time": "2024-04-09T18:02:30.161250Z",
     "start_time": "2024-04-09T18:02:30.156110Z"
    }
   },
   "id": "889b1904b380bf4b",
   "execution_count": 22
  },
  {
   "cell_type": "code",
   "outputs": [
    {
     "data": {
      "text/plain": "array([[0.69482416, 0.61360025, 0.0867334 ],\n       [0.8672247 , 0.00497037, 0.54553616],\n       [0.2833588 , 0.25849092, 0.22664112]], dtype=float32)"
     },
     "execution_count": 23,
     "metadata": {},
     "output_type": "execute_result"
    }
   ],
   "source": [
    "y = x.numpy()\n",
    "y"
   ],
   "metadata": {
    "collapsed": false,
    "ExecuteTime": {
     "end_time": "2024-04-09T18:02:30.167377Z",
     "start_time": "2024-04-09T18:02:30.161810Z"
    }
   },
   "id": "8fbe9a6076eca69a",
   "execution_count": 23
  },
  {
   "cell_type": "code",
   "outputs": [
    {
     "data": {
      "text/plain": "0.69482416"
     },
     "execution_count": 24,
     "metadata": {},
     "output_type": "execute_result"
    }
   ],
   "source": [
    "y[0, 0]"
   ],
   "metadata": {
    "collapsed": false,
    "ExecuteTime": {
     "end_time": "2024-04-09T18:02:40.082993Z",
     "start_time": "2024-04-09T18:02:40.079509Z"
    }
   },
   "id": "ec819c64f34242da",
   "execution_count": 24
  },
  {
   "cell_type": "code",
   "outputs": [
    {
     "data": {
      "text/plain": "array([1., 1., 1.])"
     },
     "execution_count": 25,
     "metadata": {},
     "output_type": "execute_result"
    }
   ],
   "source": [
    "import numpy as np\n",
    "\n",
    "a = np.ones(3)\n",
    "a"
   ],
   "metadata": {
    "collapsed": false,
    "ExecuteTime": {
     "end_time": "2024-04-09T18:03:24.231879Z",
     "start_time": "2024-04-09T18:03:24.221195Z"
    }
   },
   "id": "77c62bd7aa670883",
   "execution_count": 25
  },
  {
   "cell_type": "code",
   "outputs": [
    {
     "data": {
      "text/plain": "tensor([1., 1., 1.], dtype=torch.float64)"
     },
     "execution_count": 26,
     "metadata": {},
     "output_type": "execute_result"
    }
   ],
   "source": [
    "b = torch.from_numpy(a)\n",
    "b"
   ],
   "metadata": {
    "collapsed": false,
    "ExecuteTime": {
     "end_time": "2024-04-09T18:03:36.638706Z",
     "start_time": "2024-04-09T18:03:36.635354Z"
    }
   },
   "id": "890ac35e6f7d142",
   "execution_count": 26
  },
  {
   "cell_type": "code",
   "outputs": [
    {
     "data": {
      "text/plain": "True"
     },
     "execution_count": 27,
     "metadata": {},
     "output_type": "execute_result"
    }
   ],
   "source": [
    "device = torch.cuda.is_available()\n",
    "device"
   ],
   "metadata": {
    "collapsed": false,
    "ExecuteTime": {
     "end_time": "2024-04-09T18:04:46.714550Z",
     "start_time": "2024-04-09T18:04:46.711858Z"
    }
   },
   "id": "bf4df5d0a895db8f",
   "execution_count": 27
  },
  {
   "cell_type": "code",
   "outputs": [
    {
     "data": {
      "text/plain": "tensor([[0.6948, 0.6136, 0.0867],\n        [0.8672, 0.0050, 0.5455],\n        [0.2834, 0.2585, 0.2266]])"
     },
     "execution_count": 28,
     "metadata": {},
     "output_type": "execute_result"
    }
   ],
   "source": [
    "x"
   ],
   "metadata": {
    "collapsed": false,
    "ExecuteTime": {
     "end_time": "2024-04-09T18:05:28.505714Z",
     "start_time": "2024-04-09T18:05:28.501154Z"
    }
   },
   "id": "53d4d878f8bc93ee",
   "execution_count": 28
  },
  {
   "cell_type": "code",
   "outputs": [
    {
     "name": "stdout",
     "output_type": "stream",
     "text": [
      "tensor([[1.6948, 1.6136, 1.0867],\n",
      "        [1.8672, 1.0050, 1.5455],\n",
      "        [1.2834, 1.2585, 1.2266]], device='cuda:0')\n"
     ]
    }
   ],
   "source": [
    "if torch.cuda.is_available():\n",
    "    device = torch.device('cuda')\n",
    "    y = torch.ones_like(x, device=device)\n",
    "    x = x.to(device)\n",
    "    z = x + y\n",
    "    print(z)\n",
    "\n",
    "z = z.cpu()\n",
    "print(z)"
   ],
   "metadata": {
    "collapsed": false,
    "ExecuteTime": {
     "end_time": "2024-04-09T18:06:25.502893Z",
     "start_time": "2024-04-09T18:06:25.351418Z"
    }
   },
   "id": "3534fbfae9cf587d",
   "execution_count": 29
  },
  {
   "cell_type": "code",
   "outputs": [
    {
     "name": "stdout",
     "output_type": "stream",
     "text": [
      "tensor([[1.6948, 1.6136, 1.0867],\n",
      "        [1.8672, 1.0050, 1.5455],\n",
      "        [1.2834, 1.2585, 1.2266]])\n"
     ]
    }
   ],
   "source": [],
   "metadata": {
    "collapsed": false,
    "ExecuteTime": {
     "end_time": "2024-04-09T18:07:29.428051Z",
     "start_time": "2024-04-09T18:07:29.420993Z"
    }
   },
   "id": "14381e2da366c704",
   "execution_count": 31
  },
  {
   "cell_type": "code",
   "outputs": [],
   "source": [],
   "metadata": {
    "collapsed": false
   },
   "id": "3bf6eb4e89a59d1c"
  }
 ],
 "metadata": {
  "kernelspec": {
   "display_name": "Python 3",
   "language": "python",
   "name": "python3"
  },
  "language_info": {
   "codemirror_mode": {
    "name": "ipython",
    "version": 2
   },
   "file_extension": ".py",
   "mimetype": "text/x-python",
   "name": "python",
   "nbconvert_exporter": "python",
   "pygments_lexer": "ipython2",
   "version": "2.7.6"
  }
 },
 "nbformat": 4,
 "nbformat_minor": 5
}
