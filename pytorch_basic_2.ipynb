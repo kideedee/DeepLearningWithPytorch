{
 "cells": [
  {
   "cell_type": "code",
   "execution_count": 1,
   "id": "initial_id",
   "metadata": {
    "collapsed": true,
    "ExecuteTime": {
     "end_time": "2024-04-09T18:16:39.389193Z",
     "start_time": "2024-04-09T18:16:38.775782Z"
    }
   },
   "outputs": [],
   "source": [
    "import torch"
   ]
  },
  {
   "cell_type": "code",
   "outputs": [
    {
     "data": {
      "text/plain": "tensor(2., requires_grad=True)"
     },
     "execution_count": 2,
     "metadata": {},
     "output_type": "execute_result"
    }
   ],
   "source": [
    "x = torch.tensor(2.0, requires_grad=True)\n",
    "x"
   ],
   "metadata": {
    "collapsed": false,
    "ExecuteTime": {
     "end_time": "2024-04-09T18:16:40.082598Z",
     "start_time": "2024-04-09T18:16:40.071412Z"
    }
   },
   "id": "cb9d9ed81632361f",
   "execution_count": 2
  },
  {
   "cell_type": "code",
   "outputs": [
    {
     "data": {
      "text/plain": "tensor(7.3891, grad_fn=<ExpBackward0>)"
     },
     "execution_count": 3,
     "metadata": {},
     "output_type": "execute_result"
    }
   ],
   "source": [
    "y = torch.exp(x)\n",
    "y"
   ],
   "metadata": {
    "collapsed": false,
    "ExecuteTime": {
     "end_time": "2024-04-09T18:16:41.448919Z",
     "start_time": "2024-04-09T18:16:41.442660Z"
    }
   },
   "id": "bbe982aabd259144",
   "execution_count": 3
  },
  {
   "cell_type": "code",
   "outputs": [],
   "source": [
    "x.grad"
   ],
   "metadata": {
    "collapsed": false,
    "ExecuteTime": {
     "end_time": "2024-04-09T18:16:43.395003Z",
     "start_time": "2024-04-09T18:16:43.390571Z"
    }
   },
   "id": "d7e0b80c81a9a825",
   "execution_count": 4
  },
  {
   "cell_type": "code",
   "outputs": [],
   "source": [
    "y.backward()"
   ],
   "metadata": {
    "collapsed": false,
    "ExecuteTime": {
     "end_time": "2024-04-09T18:16:46.196990Z",
     "start_time": "2024-04-09T18:16:46.189616Z"
    }
   },
   "id": "25e8beba28eebbf7",
   "execution_count": 5
  },
  {
   "cell_type": "code",
   "outputs": [
    {
     "data": {
      "text/plain": "tensor(7.3891)"
     },
     "execution_count": 7,
     "metadata": {},
     "output_type": "execute_result"
    }
   ],
   "source": [
    "x.grad"
   ],
   "metadata": {
    "collapsed": false,
    "ExecuteTime": {
     "end_time": "2024-04-09T18:17:00.460736Z",
     "start_time": "2024-04-09T18:17:00.453021Z"
    }
   },
   "id": "89b825d3cd2e2200",
   "execution_count": 7
  },
  {
   "cell_type": "code",
   "outputs": [],
   "source": [
    "# torch.Tensor:\n",
    "# - requires_grad: có lưu thông tin grad không\n",
    "# - grad_fn: lưu thông tin hàm số đã được sử dụng của tensor\n",
    "# - backward(): hàm đạo hàm\n",
    "# - grad: lưu các thông tin đạo hàm"
   ],
   "metadata": {
    "collapsed": false,
    "ExecuteTime": {
     "end_time": "2024-04-09T18:16:29.003379Z",
     "start_time": "2024-04-09T18:16:29.002138Z"
    }
   },
   "id": "7fb815b6268b5d",
   "execution_count": 14
  }
 ],
 "metadata": {
  "kernelspec": {
   "display_name": "Python 3",
   "language": "python",
   "name": "python3"
  },
  "language_info": {
   "codemirror_mode": {
    "name": "ipython",
    "version": 2
   },
   "file_extension": ".py",
   "mimetype": "text/x-python",
   "name": "python",
   "nbconvert_exporter": "python",
   "pygments_lexer": "ipython2",
   "version": "2.7.6"
  }
 },
 "nbformat": 4,
 "nbformat_minor": 5
}
